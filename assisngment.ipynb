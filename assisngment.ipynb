{
 "cells": [
  {
   "cell_type": "code",
   "execution_count": 1,
   "id": "1e367ceb-b094-45dd-8e2a-0d2dd1cb710f",
   "metadata": {},
   "outputs": [],
   "source": [
    "s = \"ironman\""
   ]
  },
  {
   "cell_type": "code",
   "execution_count": 2,
   "id": "afbc4e13-6466-4398-80fd-d82e3383abfe",
   "metadata": {},
   "outputs": [
    {
     "data": {
      "text/plain": [
       "str"
      ]
     },
     "execution_count": 2,
     "metadata": {},
     "output_type": "execute_result"
    }
   ],
   "source": [
    "type(s)"
   ]
  },
  {
   "cell_type": "code",
   "execution_count": 5,
   "id": "b838e2bc-9671-43b0-98e2-4d5c6f7fc581",
   "metadata": {},
   "outputs": [],
   "source": [
    "l = [1,2,3,\"yuf\",\"cap\",87.99]"
   ]
  },
  {
   "cell_type": "code",
   "execution_count": 6,
   "id": "5485b1b2-3ecd-47cc-8f80-32edcafb6b0d",
   "metadata": {},
   "outputs": [
    {
     "data": {
      "text/plain": [
       "list"
      ]
     },
     "execution_count": 6,
     "metadata": {},
     "output_type": "execute_result"
    }
   ],
   "source": [
    "type (l)"
   ]
  },
  {
   "cell_type": "code",
   "execution_count": 7,
   "id": "2bd29db0-e0f8-4a06-8fc0-b2d05da1c1b0",
   "metadata": {},
   "outputs": [],
   "source": [
    "s = 78.888"
   ]
  },
  {
   "cell_type": "code",
   "execution_count": 8,
   "id": "1b891058-6d3d-4e6e-a015-c0db068e70b7",
   "metadata": {},
   "outputs": [
    {
     "data": {
      "text/plain": [
       "float"
      ]
     },
     "execution_count": 8,
     "metadata": {},
     "output_type": "execute_result"
    }
   ],
   "source": [
    "type(s)"
   ]
  },
  {
   "cell_type": "code",
   "execution_count": null,
   "id": "99600f42-e608-400a-8774-d2a263f2d9f2",
   "metadata": {},
   "outputs": [],
   "source": []
  },
  {
   "cell_type": "code",
   "execution_count": null,
   "id": "8a8e06de-82b4-416e-8cfb-e4eaf03b38d3",
   "metadata": {},
   "outputs": [],
   "source": []
  },
  {
   "cell_type": "code",
   "execution_count": 10,
   "id": "13ebbd27-49dd-4c33-ba6d-a97c005b9556",
   "metadata": {},
   "outputs": [],
   "source": [
    "#que 2\n",
    "#1"
   ]
  },
  {
   "cell_type": "code",
   "execution_count": 11,
   "id": "247d3383-beac-4247-9864-46a8595c95a8",
   "metadata": {},
   "outputs": [],
   "source": [
    "#2 error"
   ]
  },
  {
   "cell_type": "code",
   "execution_count": 12,
   "id": "11b89617-f16f-48ac-a59a-0d9af3eb21f0",
   "metadata": {},
   "outputs": [],
   "source": [
    "#3 list"
   ]
  },
  {
   "cell_type": "code",
   "execution_count": 13,
   "id": "39eb4282-f06f-456a-bc10-eec02c0d3cae",
   "metadata": {},
   "outputs": [],
   "source": [
    "#4 int"
   ]
  },
  {
   "cell_type": "code",
   "execution_count": 14,
   "id": "041c5182-2045-4d3b-8b7d-427e78e0bcd3",
   "metadata": {},
   "outputs": [
    {
     "data": {
      "text/plain": [
       "0.5"
      ]
     },
     "execution_count": 14,
     "metadata": {},
     "output_type": "execute_result"
    }
   ],
   "source": [
    "#que 3\n",
    "# / is used for division\n",
    "#example\n",
    "3/6"
   ]
  },
  {
   "cell_type": "code",
   "execution_count": 15,
   "id": "d0a9a724-f9f3-45e9-b0a1-f9096ce60b5b",
   "metadata": {},
   "outputs": [
    {
     "data": {
      "text/plain": [
       "2"
      ]
     },
     "execution_count": 15,
     "metadata": {},
     "output_type": "execute_result"
    }
   ],
   "source": [
    "#% gives reminder when we divide some number\n",
    "9%7"
   ]
  },
  {
   "cell_type": "code",
   "execution_count": 16,
   "id": "9d02aada-ecea-4ec1-8d5b-419a975aed45",
   "metadata": {},
   "outputs": [
    {
     "data": {
      "text/plain": [
       "4"
      ]
     },
     "execution_count": 16,
     "metadata": {},
     "output_type": "execute_result"
    }
   ],
   "source": [
    "9//2"
   ]
  },
  {
   "cell_type": "code",
   "execution_count": 17,
   "id": "da053554-53a7-495b-bdb4-599c33df6055",
   "metadata": {},
   "outputs": [],
   "source": [
    "#** is square root function"
   ]
  },
  {
   "cell_type": "code",
   "execution_count": 18,
   "id": "63e08c5e-d2cc-410e-af39-5222e372d86b",
   "metadata": {},
   "outputs": [
    {
     "data": {
      "text/plain": [
       "729"
      ]
     },
     "execution_count": 18,
     "metadata": {},
     "output_type": "execute_result"
    }
   ],
   "source": [
    "9**3"
   ]
  },
  {
   "cell_type": "code",
   "execution_count": 19,
   "id": "bebc6477-d53d-49b5-9b9c-3afbd22c40a4",
   "metadata": {},
   "outputs": [
    {
     "name": "stdout",
     "output_type": "stream",
     "text": [
      "1 <class 'int'>\n",
      "2 <class 'int'>\n",
      "3 <class 'int'>\n",
      "yusuf <class 'str'>\n",
      "captain <class 'str'>\n",
      "78.99 <class 'float'>\n",
      "True <class 'bool'>\n",
      "False <class 'bool'>\n",
      "87.99 <class 'float'>\n",
      "done <class 'str'>\n"
     ]
    }
   ],
   "source": [
    "#que 4\n",
    "my_list = [1,2,3,\"yusuf\",\"captain\",78.99,True,False,87.99,\"done\"]\n",
    "for element in my_list:\n",
    "    print(element,type(element))\n"
   ]
  },
  {
   "cell_type": "code",
   "execution_count": 20,
   "id": "d2c30e8c-6120-4ae0-a445-eaa644b53c0c",
   "metadata": {},
   "outputs": [],
   "source": [
    "#que 5\n",
    "#doubt"
   ]
  },
  {
   "cell_type": "code",
   "execution_count": 24,
   "id": "1e281b83-c972-4e54-83a6-7bd08a81d0bf",
   "metadata": {},
   "outputs": [
    {
     "name": "stdout",
     "output_type": "stream",
     "text": [
      "12 is divisible by 3\n",
      "23 is not divisible by 3\n",
      "24 is divisible by 3\n",
      "56 is not divisible by 3\n",
      "78 is divisible by 3\n",
      "123 is divisible by 3\n",
      "453 is divisible by 3\n",
      "76 is not divisible by 3\n",
      "89 is not divisible by 3\n",
      "54.9 is not divisible by 3\n",
      "65 is not divisible by 3\n",
      "678 is divisible by 3\n",
      "13 is not divisible by 3\n",
      "45 is divisible by 3\n",
      "71 is not divisible by 3\n",
      "543 is divisible by 3\n",
      "8977 is not divisible by 3\n",
      "655 is not divisible by 3\n",
      "143 is not divisible by 3\n",
      "0 is divisible by 3\n",
      "80 is not divisible by 3\n",
      "3 is divisible by 3\n",
      "7 is not divisible by 3\n",
      "6 is divisible by 3\n",
      "5 is not divisible by 3\n"
     ]
    }
   ],
   "source": [
    "l = [12,23,24,56,78,123,453,76,89,54.90,65,678,13,45,71,543,8977,655,143,0,80,3,7,6,5]\n",
    "for num in l:\n",
    "    if num % 3 == 0:\n",
    "        print(num,\"is divisible by 3\")\n",
    "    else:\n",
    "        print(num, \"is not divisible by 3\")\n",
    "            \n",
    "    "
   ]
  },
  {
   "cell_type": "code",
   "execution_count": null,
   "id": "7bc03021-f191-47b2-be39-14a8b753cbf5",
   "metadata": {},
   "outputs": [],
   "source": [
    "#\n",
    "Mutable data types are those whose values can be changed after they are created."
   ]
  }
 ],
 "metadata": {
  "kernelspec": {
   "display_name": "Python 3 (ipykernel)",
   "language": "python",
   "name": "python3"
  },
  "language_info": {
   "codemirror_mode": {
    "name": "ipython",
    "version": 3
   },
   "file_extension": ".py",
   "mimetype": "text/x-python",
   "name": "python",
   "nbconvert_exporter": "python",
   "pygments_lexer": "ipython3",
   "version": "3.10.8"
  }
 },
 "nbformat": 4,
 "nbformat_minor": 5
}
